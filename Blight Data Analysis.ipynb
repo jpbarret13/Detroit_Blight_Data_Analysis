{
 "cells": [
  {
   "cell_type": "markdown",
   "metadata": {},
   "source": [
    "# Blight Data Analysis"
   ]
  },
  {
   "cell_type": "markdown",
   "metadata": {},
   "source": [
    "This analysis is being performed to predict whether or not a person will be in compliance with a blight ticket."
   ]
  },
  {
   "cell_type": "markdown",
   "metadata": {},
   "source": [
    "### Load the Libraries"
   ]
  },
  {
   "cell_type": "code",
   "execution_count": 12,
   "metadata": {},
   "outputs": [],
   "source": [
    "import pandas as pd\n",
    "import numpy as np\n",
    "from sklearn.ensemble import RandomForestClassifier\n",
    "from sklearn.preprocessing import MinMaxScaler\n",
    "from sklearn.model_selection import train_test_split"
   ]
  },
  {
   "cell_type": "markdown",
   "metadata": {},
   "source": [
    "### Import the Datasets"
   ]
  },
  {
   "cell_type": "code",
   "execution_count": 27,
   "metadata": {},
   "outputs": [],
   "source": [
    "data_load = pd.read_csv('https://data.detroitmi.gov/api/views/ti6p-wcg4/rows.csv?accessType=DOWNLOAD&api_foundry=true', engine='python', index_col='Ticket ID')"
   ]
  },
  {
   "cell_type": "code",
   "execution_count": 25,
   "metadata": {},
   "outputs": [
    {
     "name": "stdout",
     "output_type": "stream",
     "text": [
      "<class 'pandas.core.frame.DataFrame'>\n",
      "Int64Index: 408330 entries, 445536 to 190940\n",
      "Data columns (total 39 columns):\n",
      "Ticket Number                           408330 non-null object\n",
      "Agency Name                             408330 non-null object\n",
      "Inspector Name                          408330 non-null object\n",
      "Violator Name                           408328 non-null object\n",
      "Violator ID                             408330 non-null int64\n",
      "Violation Street Number                 408330 non-null int64\n",
      "Violation Street Name                   408265 non-null object\n",
      "Violation Zip Code                      76814 non-null object\n",
      "Mailing Address Street Number           408326 non-null object\n",
      "Mailing Address Street Name             408324 non-null object\n",
      "Mailing Address City                    406069 non-null object\n",
      "Mailing Address State                   405607 non-null object\n",
      "Mailing Address Zip Code                406067 non-null object\n",
      "Mailing Address Non-USA Code            2263 non-null object\n",
      "Mailing Address Country                 2274 non-null object\n",
      "Violation Date                          408330 non-null object\n",
      "Ticket Issued Time                      408330 non-null object\n",
      "Hearing Date                            407720 non-null object\n",
      "Hearing Time                            407719 non-null object\n",
      "Violation Code                          408329 non-null object\n",
      "Violation Description                   408329 non-null object\n",
      "Disposition                             397107 non-null object\n",
      "Fine Amount                             408328 non-null float64\n",
      "Admin Fee                               408330 non-null float64\n",
      "State Fee                               408330 non-null float64\n",
      "Late Fee                                408330 non-null float64\n",
      "Discount Amount                         408330 non-null float64\n",
      "Clean Up Cost                           5618 non-null float64\n",
      "Judgment Amount (Total Due)             408330 non-null float64\n",
      "Payment Amount (Sum of All Payments)    210385 non-null float64\n",
      "Balance Due                             408330 non-null float64\n",
      "Payment Date (Most Recent)              84726 non-null object\n",
      "Payment Status                          210555 non-null object\n",
      "Collection Status                       74537 non-null object\n",
      "Violation Address                       408330 non-null object\n",
      "Violation Parcel ID                     390154 non-null object\n",
      "Violation Latitude                      408203 non-null float64\n",
      "Violation Longitude                     408203 non-null float64\n",
      "Violation Location                      408203 non-null object\n",
      "dtypes: float64(11), int64(2), object(26)\n",
      "memory usage: 124.6+ MB\n"
     ]
    }
   ],
   "source": [
    "data_load.info()"
   ]
  },
  {
   "cell_type": "code",
   "execution_count": null,
   "metadata": {},
   "outputs": [],
   "source": []
  },
  {
   "cell_type": "code",
   "execution_count": null,
   "metadata": {},
   "outputs": [],
   "source": []
  },
  {
   "cell_type": "code",
   "execution_count": 3,
   "metadata": {},
   "outputs": [],
   "source": []
  },
  {
   "cell_type": "code",
   "execution_count": null,
   "metadata": {},
   "outputs": [],
   "source": []
  },
  {
   "cell_type": "code",
   "execution_count": null,
   "metadata": {},
   "outputs": [],
   "source": []
  },
  {
   "cell_type": "code",
   "execution_count": null,
   "metadata": {},
   "outputs": [],
   "source": []
  },
  {
   "cell_type": "code",
   "execution_count": null,
   "metadata": {},
   "outputs": [],
   "source": []
  },
  {
   "cell_type": "code",
   "execution_count": null,
   "metadata": {},
   "outputs": [],
   "source": []
  },
  {
   "cell_type": "code",
   "execution_count": null,
   "metadata": {},
   "outputs": [],
   "source": [
    "\n"
   ]
  }
 ],
 "metadata": {
  "kernelspec": {
   "display_name": "Python 3",
   "language": "python",
   "name": "python3"
  },
  "language_info": {
   "codemirror_mode": {
    "name": "ipython",
    "version": 3
   },
   "file_extension": ".py",
   "mimetype": "text/x-python",
   "name": "python",
   "nbconvert_exporter": "python",
   "pygments_lexer": "ipython3",
   "version": "3.6.4"
  }
 },
 "nbformat": 4,
 "nbformat_minor": 2
}
